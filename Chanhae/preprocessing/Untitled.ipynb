{
 "cells": [
  {
   "cell_type": "code",
   "execution_count": 1,
   "id": "proprietary-violin",
   "metadata": {},
   "outputs": [],
   "source": [
    "import pandas as pd\n",
    "import numpy as np"
   ]
  },
  {
   "cell_type": "code",
   "execution_count": 5,
   "id": "atomic-clear",
   "metadata": {},
   "outputs": [
    {
     "name": "stdout",
     "output_type": "stream",
     "text": [
      "        no                                               name         display  \\\n",
      "0        0  ���� JH ���� �ƺ����� 13�� 2019���� MUHQ2KH/A ����  13��ġ(32~35cm)   \n",
      "1        1       ���� ���� �ƺϿ���13�� MVFL2KH/A �ǹ� (��)ipark  13��ġ(32~35cm)   \n",
      "2        2        ���� �ƺ����� 2019 16��ġ CTO i7/64GB/1TB CTO  16��ġ(40~42cm)   \n",
      "3        3          Apple �ƺ� ���� 16��ġ + �����ɾ��÷���(����)  16��ġ(40~42cm)   \n",
      "4        4        ���� �ƺ����� 13��ġ 2019���� i5/8G/128G/256G  13��ġ(32~35cm)   \n",
      "...    ...                                                ...             ...   \n",
      "4666  4666                 �ؿ�MACBOOK AIR 11 - MACBOOK AIR 11             NaN   \n",
      "4667  4667                 �ؿ�MACBOOK AIR 11 - MACBOOK AIR 11             NaN   \n",
      "4668  4668                 �ؿ�MACBOOK PRO 15 - MACBOOK PRO 15  15��ġ(37~39cm)   \n",
      "4669  4669                 �ؿ�MACBOOK PRO 13 - MACBOOK PRO 13  13��ġ(32~35cm)   \n",
      "4670  4670  �ؿܴ��� 2018 ��ü ��Ʈ�� �ƺ� ���� 13 ��ġ ���� A19...  13��ġ(32~35cm)   \n",
      "\n",
      "     weight(kg)   os core codename  cpu(GHz) model_year chipset   used  \\\n",
      "0           NaN  NaN  NaN      NaN       NaN       2019     NaN  False   \n",
      "1           NaN  NaN  NaN      NaN       NaN        NaN     NaN  False   \n",
      "2           NaN  NaN  NaN      NaN       NaN        NaN     NaN  False   \n",
      "3           NaN  NaN  NaN      NaN       NaN        NaN     NaN  False   \n",
      "4           NaN  NaN  NaN      NaN       NaN       2019     NaN  False   \n",
      "...         ...  ...  ...      ...       ...        ...     ...    ...   \n",
      "4666        NaN  NaN  NaN      NaN       NaN        NaN     NaN  False   \n",
      "4667        NaN  NaN  NaN      NaN       NaN        NaN     NaN  False   \n",
      "4668        NaN  NaN  NaN      NaN       NaN        NaN     NaN  False   \n",
      "4669        NaN  NaN  NaN      NaN       NaN        NaN     NaN  False   \n",
      "4670        NaN  NaN  NaN      NaN       NaN        NaN     NaN  False   \n",
      "\n",
      "        price  \n",
      "0     1483560  \n",
      "1     5204440  \n",
      "2     3801600  \n",
      "3     3190000  \n",
      "4     1249200  \n",
      "...       ...  \n",
      "4666   343590  \n",
      "4667   370560  \n",
      "4668   316800  \n",
      "4669   267460  \n",
      "4670   511000  \n",
      "\n",
      "[4671 rows x 12 columns]\n"
     ]
    },
    {
     "data": {
      "text/plain": [
       "\"\\ndata = pd.DataFrame(data)\\nnameData = []\\ndata['codename'] = data['codename'].astype(str)\\n\\n\\nfor index, row in enumerate(data.itertuples()):\\n\\n    for x in var:\\n        if x in row[2]:\\n            if str(row[7]) == 'nan':\\n                # data.iloc[index][7] = '아이비브릿지(3세대)'\\n                #data.loc[index][6] = '아이비브릿지(3세대)'\\n                #data['codename'][index] = '아이비브릿지(3세대)'\\n                #data.iat[index,6] = '아이비브릿지(3세대)'\\n                print(row[2], '//', data.iat[index,6], '//', type(data.iat[index,6]))\\n\\ndata2 = pd.read_csv('data/test.csv', na_values=['?', '??', 'N/A', 'NA', 'nan', 'NaN', '-nan', '-NaN', 'null', ''])\\n\\nfor index, row in enumerate(data2.itertuples()):\\n\\n    for x in var:\\n        if x in row[2]:\\n            if str(row[7]) == 'nan':\\n                #data2.iat[index, 6] = '아이비브릿지(3세대)'\\n                print(row[2], '//', data2.iat[index,6], '//', type(data2.iat[index,6]))\\n\\nprint(data.shape)\""
      ]
     },
     "execution_count": 5,
     "metadata": {},
     "output_type": "execute_result"
    }
   ],
   "source": [
    "var = ['MD101KH', 'ME664KH', 'MD224KH', 'ME665KH', 'MD232KH']\n",
    "\n",
    "data = pd.read_csv('data/editData/train.csv', na_values = ['?', '??', 'N/A', 'NA', 'nan', 'NaN', '-nan', '-NaN', 'null', ''])\n",
    "print(data)\n",
    "#data.to_csv('data/editData/train.csv', index=False)\n",
    "#data2.to_csv('data/editData/test.csv')\n",
    "\n",
    "\n",
    "\n",
    "'''\n",
    "data = pd.DataFrame(data)\n",
    "nameData = []\n",
    "data['codename'] = data['codename'].astype(str)\n",
    "\n",
    "\n",
    "for index, row in enumerate(data.itertuples()):\n",
    "\n",
    "    for x in var:\n",
    "        if x in row[2]:\n",
    "            if str(row[7]) == 'nan':\n",
    "                # data.iloc[index][7] = '아이비브릿지(3세대)'\n",
    "                #data.loc[index][6] = '아이비브릿지(3세대)'\n",
    "                #data['codename'][index] = '아이비브릿지(3세대)'\n",
    "                #data.iat[index,6] = '아이비브릿지(3세대)'\n",
    "                print(row[2], '//', data.iat[index,6], '//', type(data.iat[index,6]))\n",
    "\n",
    "data2 = pd.read_csv('data/test.csv', na_values=['?', '??', 'N/A', 'NA', 'nan', 'NaN', '-nan', '-NaN', 'null', ''])\n",
    "\n",
    "for index, row in enumerate(data2.itertuples()):\n",
    "\n",
    "    for x in var:\n",
    "        if x in row[2]:\n",
    "            if str(row[7]) == 'nan':\n",
    "                #data2.iat[index, 6] = '아이비브릿지(3세대)'\n",
    "                print(row[2], '//', data2.iat[index,6], '//', type(data2.iat[index,6]))\n",
    "\n",
    "print(data.shape)'''"
   ]
  },
  {
   "cell_type": "code",
   "execution_count": null,
   "id": "developing-audio",
   "metadata": {},
   "outputs": [],
   "source": []
  }
 ],
 "metadata": {
  "kernelspec": {
   "display_name": "Python 3",
   "language": "python",
   "name": "python3"
  },
  "language_info": {
   "codemirror_mode": {
    "name": "ipython",
    "version": 3
   },
   "file_extension": ".py",
   "mimetype": "text/x-python",
   "name": "python",
   "nbconvert_exporter": "python",
   "pygments_lexer": "ipython3",
   "version": "3.7.9"
  }
 },
 "nbformat": 4,
 "nbformat_minor": 5
}
